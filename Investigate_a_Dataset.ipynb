{
 "cells": [
  {
   "cell_type": "markdown",
   "metadata": {},
   "source": [
    "# Project: TMDB Movies Data Analysis\n",
    "\n",
    "## Table of Contents\n",
    "<ul>\n",
    "<li><a href=\"#intro\">Introduction</a></li>\n",
    "<li><a href=\"#wrangling\">Data Wrangling</a></li>\n",
    "<li><a href=\"#eda\">Exploratory Data Analysis</a></li>\n",
    "<li><a href=\"#conclusions\">Conclusions</a></li>\n",
    "</ul>"
   ]
  },
  {
   "cell_type": "markdown",
   "metadata": {},
   "source": [
    "<a id='intro'></a>\n",
    "## Introduction\n",
    "\n",
    "TMDB Movies dataset provides a lot of useful data for over 10,000 movies. Each row corresponds to a movie and its data. Some of the data which we will be working with includes:\n",
    "    \n",
    "    - keywords\n",
    "    - runtime\n",
    "    - genres\n",
    "    - vote_average\n",
    "    - release_year\n",
    "    \n",
    "For our analysis, we will answer a few questions like;\n",
    "\n",
    "    - Do long movies receive better ratings?\n",
    "    - How many movies with a rating of 8.0 or higher were released each decade?\n",
    "    - What are the most popular keywords?\n",
    "    - What are the most popular genres?\n",
    "    \n",
    "Throughout our analysis vote_average is the dependent variable while runtime, release_year, keywords, and genres are the independent variables."
   ]
  },
  {
   "cell_type": "code",
   "execution_count": 22,
   "metadata": {},
   "outputs": [],
   "source": [
    "import pandas as pd\n",
    "import numpy as np\n",
    "import matplotlib.pyplot as plt\n",
    "import seaborn as sns\n",
    "%matplotlib inline"
   ]
  },
  {
   "cell_type": "markdown",
   "metadata": {},
   "source": [
    "<a id='wrangling'></a>\n",
    "## Data Wrangling\n",
    "\n",
    "### General Properties\n",
    "\n",
    "First let's import out tmdb-movies dataset and view a sample."
   ]
  },
  {
   "cell_type": "code",
   "execution_count": 23,
   "metadata": {},
   "outputs": [
    {
     "data": {
      "text/html": [
       "<div>\n",
       "<style scoped>\n",
       "    .dataframe tbody tr th:only-of-type {\n",
       "        vertical-align: middle;\n",
       "    }\n",
       "\n",
       "    .dataframe tbody tr th {\n",
       "        vertical-align: top;\n",
       "    }\n",
       "\n",
       "    .dataframe thead th {\n",
       "        text-align: right;\n",
       "    }\n",
       "</style>\n",
       "<table border=\"1\" class=\"dataframe\">\n",
       "  <thead>\n",
       "    <tr style=\"text-align: right;\">\n",
       "      <th></th>\n",
       "      <th>id</th>\n",
       "      <th>imdb_id</th>\n",
       "      <th>popularity</th>\n",
       "      <th>budget</th>\n",
       "      <th>revenue</th>\n",
       "      <th>original_title</th>\n",
       "      <th>cast</th>\n",
       "      <th>homepage</th>\n",
       "      <th>director</th>\n",
       "      <th>tagline</th>\n",
       "      <th>...</th>\n",
       "      <th>overview</th>\n",
       "      <th>runtime</th>\n",
       "      <th>genres</th>\n",
       "      <th>production_companies</th>\n",
       "      <th>release_date</th>\n",
       "      <th>vote_count</th>\n",
       "      <th>vote_average</th>\n",
       "      <th>release_year</th>\n",
       "      <th>budget_adj</th>\n",
       "      <th>revenue_adj</th>\n",
       "    </tr>\n",
       "  </thead>\n",
       "  <tbody>\n",
       "    <tr>\n",
       "      <th>3557</th>\n",
       "      <td>101173</td>\n",
       "      <td>tt1372686</td>\n",
       "      <td>0.597001</td>\n",
       "      <td>7700000</td>\n",
       "      <td>1072602</td>\n",
       "      <td>Coriolanus</td>\n",
       "      <td>Gerard Butler|Ralph Fiennes|Lubna Azabal|Ashra...</td>\n",
       "      <td>NaN</td>\n",
       "      <td>Ralph Fiennes</td>\n",
       "      <td>Nature teaches beasts to know their friends.</td>\n",
       "      <td>...</td>\n",
       "      <td>Caius Martius, aka Coriolanus, is an arrogant ...</td>\n",
       "      <td>123</td>\n",
       "      <td>Drama|Thriller</td>\n",
       "      <td>BBC Films|Synchronistic Pictures|Icon Entertai...</td>\n",
       "      <td>2/14/11</td>\n",
       "      <td>76</td>\n",
       "      <td>5.7</td>\n",
       "      <td>2011</td>\n",
       "      <td>7.464365e+06</td>\n",
       "      <td>1.039778e+06</td>\n",
       "    </tr>\n",
       "    <tr>\n",
       "      <th>3340</th>\n",
       "      <td>13359</td>\n",
       "      <td>tt1091617</td>\n",
       "      <td>0.021371</td>\n",
       "      <td>3500000</td>\n",
       "      <td>7700000</td>\n",
       "      <td>Expelled: No Intelligence Allowed</td>\n",
       "      <td>Ben Stein|Richard Dawkins|William Dembski|Paul...</td>\n",
       "      <td>http://www.expelledthemovie.com/</td>\n",
       "      <td>Nathan Frankowski</td>\n",
       "      <td>Big science has expelled smart new ideas from ...</td>\n",
       "      <td>...</td>\n",
       "      <td>Hosted by Ben Stein, this controversial docume...</td>\n",
       "      <td>90</td>\n",
       "      <td>Documentary</td>\n",
       "      <td>Premise Media Corporation</td>\n",
       "      <td>4/18/08</td>\n",
       "      <td>12</td>\n",
       "      <td>4.5</td>\n",
       "      <td>2008</td>\n",
       "      <td>3.544753e+06</td>\n",
       "      <td>7.798457e+06</td>\n",
       "    </tr>\n",
       "    <tr>\n",
       "      <th>6877</th>\n",
       "      <td>19955</td>\n",
       "      <td>tt0478724</td>\n",
       "      <td>0.177457</td>\n",
       "      <td>0</td>\n",
       "      <td>0</td>\n",
       "      <td>PrÃªte-moi ta main</td>\n",
       "      <td>Alain Chabat|Bernadette Lafont|Charlotte Gains...</td>\n",
       "      <td>NaN</td>\n",
       "      <td>Eric Lartigau</td>\n",
       "      <td>NaN</td>\n",
       "      <td>...</td>\n",
       "      <td>Life is easy for 43-year-old Luis, a happy sin...</td>\n",
       "      <td>90</td>\n",
       "      <td>Comedy|Romance</td>\n",
       "      <td>NaN</td>\n",
       "      <td>11/1/06</td>\n",
       "      <td>56</td>\n",
       "      <td>6.6</td>\n",
       "      <td>2006</td>\n",
       "      <td>0.000000e+00</td>\n",
       "      <td>0.000000e+00</td>\n",
       "    </tr>\n",
       "    <tr>\n",
       "      <th>3656</th>\n",
       "      <td>76122</td>\n",
       "      <td>tt2011118</td>\n",
       "      <td>0.378240</td>\n",
       "      <td>500000</td>\n",
       "      <td>0</td>\n",
       "      <td>Marvel One-Shot: The Consultant</td>\n",
       "      <td>Clark Gregg|Maximiliano HernÃ¡ndez|Tim Roth|Ro...</td>\n",
       "      <td>NaN</td>\n",
       "      <td>Leythum</td>\n",
       "      <td>NaN</td>\n",
       "      <td>...</td>\n",
       "      <td>Agent Coulson informs Agent Sitwell that the W...</td>\n",
       "      <td>4</td>\n",
       "      <td>Adventure|Fantasy|Science Fiction|Action</td>\n",
       "      <td>Marvel Studios</td>\n",
       "      <td>9/12/11</td>\n",
       "      <td>66</td>\n",
       "      <td>6.7</td>\n",
       "      <td>2011</td>\n",
       "      <td>4.846990e+05</td>\n",
       "      <td>0.000000e+00</td>\n",
       "    </tr>\n",
       "    <tr>\n",
       "      <th>8292</th>\n",
       "      <td>14002</td>\n",
       "      <td>tt0103767</td>\n",
       "      <td>0.521669</td>\n",
       "      <td>4000000</td>\n",
       "      <td>0</td>\n",
       "      <td>Baraka</td>\n",
       "      <td>NaN</td>\n",
       "      <td>http://en.wikipedia.org/wiki/Baraka_(film)</td>\n",
       "      <td>Ron Fricke</td>\n",
       "      <td>A world beyond words.</td>\n",
       "      <td>...</td>\n",
       "      <td>This is a paralyzingly beautiful documentary w...</td>\n",
       "      <td>96</td>\n",
       "      <td>Documentary</td>\n",
       "      <td>Magidson Films</td>\n",
       "      <td>9/15/92</td>\n",
       "      <td>89</td>\n",
       "      <td>7.6</td>\n",
       "      <td>1992</td>\n",
       "      <td>6.216097e+06</td>\n",
       "      <td>0.000000e+00</td>\n",
       "    </tr>\n",
       "  </tbody>\n",
       "</table>\n",
       "<p>5 rows × 21 columns</p>\n",
       "</div>"
      ],
      "text/plain": [
       "          id    imdb_id  popularity   budget  revenue  \\\n",
       "3557  101173  tt1372686    0.597001  7700000  1072602   \n",
       "3340   13359  tt1091617    0.021371  3500000  7700000   \n",
       "6877   19955  tt0478724    0.177457        0        0   \n",
       "3656   76122  tt2011118    0.378240   500000        0   \n",
       "8292   14002  tt0103767    0.521669  4000000        0   \n",
       "\n",
       "                         original_title  \\\n",
       "3557                         Coriolanus   \n",
       "3340  Expelled: No Intelligence Allowed   \n",
       "6877                 PrÃªte-moi ta main   \n",
       "3656    Marvel One-Shot: The Consultant   \n",
       "8292                             Baraka   \n",
       "\n",
       "                                                   cast  \\\n",
       "3557  Gerard Butler|Ralph Fiennes|Lubna Azabal|Ashra...   \n",
       "3340  Ben Stein|Richard Dawkins|William Dembski|Paul...   \n",
       "6877  Alain Chabat|Bernadette Lafont|Charlotte Gains...   \n",
       "3656  Clark Gregg|Maximiliano HernÃ¡ndez|Tim Roth|Ro...   \n",
       "8292                                                NaN   \n",
       "\n",
       "                                        homepage           director  \\\n",
       "3557                                         NaN      Ralph Fiennes   \n",
       "3340            http://www.expelledthemovie.com/  Nathan Frankowski   \n",
       "6877                                         NaN      Eric Lartigau   \n",
       "3656                                         NaN            Leythum   \n",
       "8292  http://en.wikipedia.org/wiki/Baraka_(film)         Ron Fricke   \n",
       "\n",
       "                                                tagline  ...  \\\n",
       "3557       Nature teaches beasts to know their friends.  ...   \n",
       "3340  Big science has expelled smart new ideas from ...  ...   \n",
       "6877                                                NaN  ...   \n",
       "3656                                                NaN  ...   \n",
       "8292                              A world beyond words.  ...   \n",
       "\n",
       "                                               overview runtime  \\\n",
       "3557  Caius Martius, aka Coriolanus, is an arrogant ...     123   \n",
       "3340  Hosted by Ben Stein, this controversial docume...      90   \n",
       "6877  Life is easy for 43-year-old Luis, a happy sin...      90   \n",
       "3656  Agent Coulson informs Agent Sitwell that the W...       4   \n",
       "8292  This is a paralyzingly beautiful documentary w...      96   \n",
       "\n",
       "                                        genres  \\\n",
       "3557                            Drama|Thriller   \n",
       "3340                               Documentary   \n",
       "6877                            Comedy|Romance   \n",
       "3656  Adventure|Fantasy|Science Fiction|Action   \n",
       "8292                               Documentary   \n",
       "\n",
       "                                   production_companies release_date  \\\n",
       "3557  BBC Films|Synchronistic Pictures|Icon Entertai...      2/14/11   \n",
       "3340                          Premise Media Corporation      4/18/08   \n",
       "6877                                                NaN      11/1/06   \n",
       "3656                                     Marvel Studios      9/12/11   \n",
       "8292                                     Magidson Films      9/15/92   \n",
       "\n",
       "     vote_count  vote_average  release_year    budget_adj   revenue_adj  \n",
       "3557         76           5.7          2011  7.464365e+06  1.039778e+06  \n",
       "3340         12           4.5          2008  3.544753e+06  7.798457e+06  \n",
       "6877         56           6.6          2006  0.000000e+00  0.000000e+00  \n",
       "3656         66           6.7          2011  4.846990e+05  0.000000e+00  \n",
       "8292         89           7.6          1992  6.216097e+06  0.000000e+00  \n",
       "\n",
       "[5 rows x 21 columns]"
      ]
     },
     "execution_count": 23,
     "metadata": {},
     "output_type": "execute_result"
    }
   ],
   "source": [
    "# import the dataset\n",
    "df = pd.read_csv('tmdb-movies.csv')\n",
    "\n",
    "# view a sample of the dataset\n",
    "df.sample(5)"
   ]
  },
  {
   "cell_type": "markdown",
   "metadata": {},
   "source": [
    "Now we will explore our dataset by checking the data type for each column, which columns have null values and duplicate rows."
   ]
  },
  {
   "cell_type": "code",
   "execution_count": 24,
   "metadata": {},
   "outputs": [
    {
     "name": "stdout",
     "output_type": "stream",
     "text": [
      "<class 'pandas.core.frame.DataFrame'>\n",
      "RangeIndex: 10866 entries, 0 to 10865\n",
      "Data columns (total 21 columns):\n",
      " #   Column                Non-Null Count  Dtype  \n",
      "---  ------                --------------  -----  \n",
      " 0   id                    10866 non-null  int64  \n",
      " 1   imdb_id               10856 non-null  object \n",
      " 2   popularity            10866 non-null  float64\n",
      " 3   budget                10866 non-null  int64  \n",
      " 4   revenue               10866 non-null  int64  \n",
      " 5   original_title        10866 non-null  object \n",
      " 6   cast                  10790 non-null  object \n",
      " 7   homepage              2936 non-null   object \n",
      " 8   director              10822 non-null  object \n",
      " 9   tagline               8042 non-null   object \n",
      " 10  keywords              9373 non-null   object \n",
      " 11  overview              10862 non-null  object \n",
      " 12  runtime               10866 non-null  int64  \n",
      " 13  genres                10843 non-null  object \n",
      " 14  production_companies  9836 non-null   object \n",
      " 15  release_date          10866 non-null  object \n",
      " 16  vote_count            10866 non-null  int64  \n",
      " 17  vote_average          10866 non-null  float64\n",
      " 18  release_year          10866 non-null  int64  \n",
      " 19  budget_adj            10866 non-null  float64\n",
      " 20  revenue_adj           10866 non-null  float64\n",
      "dtypes: float64(4), int64(6), object(11)\n",
      "memory usage: 1.7+ MB\n"
     ]
    }
   ],
   "source": [
    "# view columns' names, the data type for each column and which columns have null values\n",
    "df.info()"
   ]
  },
  {
   "cell_type": "code",
   "execution_count": 25,
   "metadata": {},
   "outputs": [
    {
     "data": {
      "text/plain": [
       "1"
      ]
     },
     "execution_count": 25,
     "metadata": {},
     "output_type": "execute_result"
    }
   ],
   "source": [
    "# check the number of duplicates\n",
    "df.duplicated().sum()"
   ]
  },
  {
   "cell_type": "markdown",
   "metadata": {},
   "source": [
    "### Data Cleaning\n",
    "\n",
    "Now let's clean our data to make it suitable for data analysis. Here are the steps we will take:\n",
    "\n",
    "    1- Remove duplicate row\n",
    "    2- Limit our data to only the columns we need\n",
    "    3- Deal with illogical values\n",
    "    4- Remove null values for keywords and genres columns when we answer questions related to them"
   ]
  },
  {
   "cell_type": "code",
   "execution_count": 26,
   "metadata": {},
   "outputs": [
    {
     "name": "stdout",
     "output_type": "stream",
     "text": [
      "<class 'pandas.core.frame.DataFrame'>\n",
      "Int64Index: 10865 entries, 0 to 10865\n",
      "Data columns (total 5 columns):\n",
      " #   Column        Non-Null Count  Dtype  \n",
      "---  ------        --------------  -----  \n",
      " 0   vote_average  10865 non-null  float64\n",
      " 1   release_year  10865 non-null  int64  \n",
      " 2   runtime       10865 non-null  int64  \n",
      " 3   genres        10842 non-null  object \n",
      " 4   keywords      9372 non-null   object \n",
      "dtypes: float64(1), int64(2), object(2)\n",
      "memory usage: 509.3+ KB\n"
     ]
    }
   ],
   "source": [
    "# remove duplicate row\n",
    "df = df.drop_duplicates()\n",
    "\n",
    "# remove extra columns\n",
    "df = df[['vote_average', 'release_year', 'runtime', 'genres', 'keywords']]\n",
    "\n",
    "# explore the dataset\n",
    "df.info()"
   ]
  },
  {
   "cell_type": "code",
   "execution_count": 27,
   "metadata": {},
   "outputs": [
    {
     "data": {
      "text/html": [
       "<div>\n",
       "<style scoped>\n",
       "    .dataframe tbody tr th:only-of-type {\n",
       "        vertical-align: middle;\n",
       "    }\n",
       "\n",
       "    .dataframe tbody tr th {\n",
       "        vertical-align: top;\n",
       "    }\n",
       "\n",
       "    .dataframe thead th {\n",
       "        text-align: right;\n",
       "    }\n",
       "</style>\n",
       "<table border=\"1\" class=\"dataframe\">\n",
       "  <thead>\n",
       "    <tr style=\"text-align: right;\">\n",
       "      <th></th>\n",
       "      <th>vote_average</th>\n",
       "      <th>release_year</th>\n",
       "      <th>runtime</th>\n",
       "    </tr>\n",
       "  </thead>\n",
       "  <tbody>\n",
       "    <tr>\n",
       "      <th>count</th>\n",
       "      <td>10865.000000</td>\n",
       "      <td>10865.000000</td>\n",
       "      <td>10865.000000</td>\n",
       "    </tr>\n",
       "    <tr>\n",
       "      <th>mean</th>\n",
       "      <td>5.975012</td>\n",
       "      <td>2001.321859</td>\n",
       "      <td>102.071790</td>\n",
       "    </tr>\n",
       "    <tr>\n",
       "      <th>std</th>\n",
       "      <td>0.935138</td>\n",
       "      <td>12.813260</td>\n",
       "      <td>31.382701</td>\n",
       "    </tr>\n",
       "    <tr>\n",
       "      <th>min</th>\n",
       "      <td>1.500000</td>\n",
       "      <td>1960.000000</td>\n",
       "      <td>0.000000</td>\n",
       "    </tr>\n",
       "    <tr>\n",
       "      <th>25%</th>\n",
       "      <td>5.400000</td>\n",
       "      <td>1995.000000</td>\n",
       "      <td>90.000000</td>\n",
       "    </tr>\n",
       "    <tr>\n",
       "      <th>50%</th>\n",
       "      <td>6.000000</td>\n",
       "      <td>2006.000000</td>\n",
       "      <td>99.000000</td>\n",
       "    </tr>\n",
       "    <tr>\n",
       "      <th>75%</th>\n",
       "      <td>6.600000</td>\n",
       "      <td>2011.000000</td>\n",
       "      <td>111.000000</td>\n",
       "    </tr>\n",
       "    <tr>\n",
       "      <th>max</th>\n",
       "      <td>9.200000</td>\n",
       "      <td>2015.000000</td>\n",
       "      <td>900.000000</td>\n",
       "    </tr>\n",
       "  </tbody>\n",
       "</table>\n",
       "</div>"
      ],
      "text/plain": [
       "       vote_average  release_year       runtime\n",
       "count  10865.000000  10865.000000  10865.000000\n",
       "mean       5.975012   2001.321859    102.071790\n",
       "std        0.935138     12.813260     31.382701\n",
       "min        1.500000   1960.000000      0.000000\n",
       "25%        5.400000   1995.000000     90.000000\n",
       "50%        6.000000   2006.000000     99.000000\n",
       "75%        6.600000   2011.000000    111.000000\n",
       "max        9.200000   2015.000000    900.000000"
      ]
     },
     "execution_count": 27,
     "metadata": {},
     "output_type": "execute_result"
    }
   ],
   "source": [
    "# check for illogical values\n",
    "df.describe()"
   ]
  },
  {
   "cell_type": "markdown",
   "metadata": {},
   "source": [
    "We can see that our data is fine except for runtime. There is at least one movie with runtime value of zero which is illogical. There are also at least one movie that is 900 minutes long. Let's explore runtime column more and figure out how to deal with these illogical values. First we will check the number of movies with a runtime of zero."
   ]
  },
  {
   "cell_type": "code",
   "execution_count": 28,
   "metadata": {},
   "outputs": [
    {
     "data": {
      "text/plain": [
       "vote_average    31\n",
       "release_year    31\n",
       "runtime         31\n",
       "genres          30\n",
       "keywords        15\n",
       "dtype: int64"
      ]
     },
     "execution_count": 28,
     "metadata": {},
     "output_type": "execute_result"
    }
   ],
   "source": [
    "# check the number of movies with a runtime of zero\n",
    "df.query('runtime == 0').count()"
   ]
  },
  {
   "cell_type": "markdown",
   "metadata": {},
   "source": [
    "Looks like there are only 31 movies with zero runtime. I think its fine to remove them. Now we will create a new data frame called df_runtime excluding those values."
   ]
  },
  {
   "cell_type": "code",
   "execution_count": 29,
   "metadata": {},
   "outputs": [],
   "source": [
    "# remove the movies with a runtime of zero since there are only few of them\n",
    "df_runtime = df.query('runtime != 0')"
   ]
  },
  {
   "cell_type": "markdown",
   "metadata": {},
   "source": [
    "Now for movies with very high durations. Since its highly unlikely for movies to exceed 4 hours, we will exclude movies with higher durations from our df_runtime data frame as they are likely television mini-series."
   ]
  },
  {
   "cell_type": "code",
   "execution_count": 30,
   "metadata": {},
   "outputs": [],
   "source": [
    "# remove movies more than 4 hours long\n",
    "df_runtime = df_runtime.query('runtime <= 240')"
   ]
  },
  {
   "cell_type": "markdown",
   "metadata": {},
   "source": [
    "For questions related to keywords and genres, we will create df_keywords and df_genres data frames respectively where we will remove null values."
   ]
  },
  {
   "cell_type": "code",
   "execution_count": 31,
   "metadata": {},
   "outputs": [],
   "source": [
    "df_keywords = df[df['keywords'].notna()]\n",
    "df_genres = df[df['genres'].notna()]"
   ]
  },
  {
   "cell_type": "markdown",
   "metadata": {},
   "source": [
    "<a id='eda'></a>\n",
    "## Exploratory Data Analysis\n",
    "\n",
    "### Do long movies receive better ratings?\n",
    "\n",
    "To answer this question let's explore the correlation between ratings and runtime using scatter plot."
   ]
  },
  {
   "cell_type": "code",
   "execution_count": 32,
   "metadata": {},
   "outputs": [
    {
     "data": {
      "image/png": "[encoded data removed]",
      "text/plain": [
       "<Figure size 432x288 with 1 Axes>"
      ]
     },
     "metadata": {
      "needs_background": "light"
     },
     "output_type": "display_data"
    }
   ],
   "source": [
    "# explore the correlation between ratings and runtime using scatter plot\n",
    "df_runtime.plot(x='runtime', y='vote_average', kind='scatter', title='Runtime vs Rating', \\\n",
    "                xlabel='Runtime', ylabel='Average Rating');"
   ]
  },
  {
   "cell_type": "markdown",
   "metadata": {},
   "source": [
    "Seems like we can not come to a conclusion using scatter plot. Let's try grouping movies by runtime and viewing the mean rating for each group."
   ]
  },
  {
   "cell_type": "code",
   "execution_count": 33,
   "metadata": {},
   "outputs": [],
   "source": [
    "# grouping movies by runtime\n",
    "df_runtime['runtime_grouped'] = pd.cut(df_runtime['runtime'], list(range(0,270,30)), \\\n",
    "                                       labels=[str(x-30)+'-'+str(x) for x in list(range(30,270,30))])"
   ]
  },
  {
   "cell_type": "code",
   "execution_count": 34,
   "metadata": {},
   "outputs": [
    {
     "data": {
      "image/png": "[encoded data removed]",
      "text/plain": [
       "<Figure size 720x360 with 1 Axes>"
      ]
     },
     "metadata": {
      "needs_background": "light"
     },
     "output_type": "display_data"
    }
   ],
   "source": [
    "# explore the correlation between ratings and runtime using line chart\n",
    "df_runtime.groupby('runtime_grouped')['vote_average'].mean().plot(xlabel='Runtime', ylabel='Average Rating', \\\n",
    "                                                                  grid=True, figsize=(10,5), title='Runtime vs Rating');"
   ]
  },
  {
   "cell_type": "markdown",
   "metadata": {},
   "source": [
    "> Excluding short movies (less than 90 minutes), it seems as the duration of the movie increases, the rating increases too for this dataset although we can not say there is a correlation between them."
   ]
  },
  {
   "cell_type": "markdown",
   "metadata": {},
   "source": [
    "### How many movies with a rating of 8.0 or higher were released each decade?\n",
    "\n",
    "To find out how the movie industry has evolved through the last 50 years, in terms of movie ratings, we will do the following:\n",
    "\n",
    "    1- Create a new filtered data frame containing only the movies with vote_average of 8.0 or higher\n",
    "    2- Group movies by decade\n",
    "    3- Explore the correlation between the number of highly reated movies and release date using line chart"
   ]
  },
  {
   "cell_type": "code",
   "execution_count": 35,
   "metadata": {},
   "outputs": [
    {
     "name": "stderr",
     "output_type": "stream",
     "text": [
      "<ipython-input-35-9a6a7bacdf06>:5: SettingWithCopyWarning: \n",
      "A value is trying to be set on a copy of a slice from a DataFrame.\n",
      "Try using .loc[row_indexer,col_indexer] = value instead\n",
      "\n",
      "See the caveats in the documentation: https://pandas.pydata.org/pandas-docs/stable/user_guide/indexing.html#returning-a-view-versus-a-copy\n",
      "  df_highly_rated['release_grouped'] = pd.cut(df_highly_rated['release_year'], list(range(1959,2029,10)), \\\n"
     ]
    }
   ],
   "source": [
    "# create a new dataset for movies with a rating of 8.0 or higher\n",
    "df_highly_rated = df.query('vote_average >= 8.0')\n",
    "\n",
    "# grouping movies by decade\n",
    "df_highly_rated['release_grouped'] = pd.cut(df_highly_rated['release_year'], list(range(1959,2029,10)), \\\n",
    "                                            labels=[str(x)[2:]+'\\'s' for x in list(range(1960,2020,10))])"
   ]
  },
  {
   "cell_type": "code",
   "execution_count": 36,
   "metadata": {},
   "outputs": [
    {
     "data": {
      "image/png": "[encoded data removed]",
      "text/plain": [
       "<Figure size 432x288 with 1 Axes>"
      ]
     },
     "metadata": {
      "needs_background": "light"
     },
     "output_type": "display_data"
    }
   ],
   "source": [
    "# explore the correlation between the number of highly rated movies and release date using line chart\n",
    "df_highly_rated.groupby('release_grouped')['vote_average'].count().plot(xlabel='Decade', ylabel='Number of Movies', grid=True, \\\n",
    "                                                        title='Number of Movies With 8.0 Rating or More Across Time', legend=False);"
   ]
  },
  {
   "cell_type": "markdown",
   "metadata": {},
   "source": [
    "> It seems that for this dataset, the number of highly rated movies increases with time."
   ]
  },
  {
   "cell_type": "markdown",
   "metadata": {},
   "source": [
    "### What are the most popular keywords?\n",
    "\n",
    "To answer this question, we will create a function that return the number of occurrences of each keyword for all movies. We will use this function again to answer the next question."
   ]
  },
  {
   "cell_type": "code",
   "execution_count": 37,
   "metadata": {},
   "outputs": [],
   "source": [
    "def count_words(df_column):\n",
    "    # count the occurrence of each word for movies with only one keyword\n",
    "    word_occurrence = df_column[df_column.str.find('|') == -1].value_counts()\n",
    "    # work with the rest of the movies with more than one keyword\n",
    "    df_remaining = df_column.str.extractall(r'(.*)(\\|)(.*)')\n",
    "    while df_remaining.shape[0] > 0:\n",
    "        word_occurrence = word_occurrence.add(df_remaining.iloc[:,2].value_counts(), fill_value=0)\n",
    "        word_occurrence = word_occurrence.add(df_remaining.iloc[:,0][df_remaining.iloc[:,0].str.find('|') == -1].value_counts(), fill_value=0)\n",
    "        df_remaining = df_remaining.iloc[:,0].str.extractall(r'(.*)(\\|)(.*)')\n",
    "    word_occurrence = word_occurrence.add(df_remaining.iloc[:,0].value_counts(), fill_value=0)\n",
    "    return word_occurrence"
   ]
  },
  {
   "cell_type": "code",
   "execution_count": 38,
   "metadata": {},
   "outputs": [
    {
     "data": {
      "text/plain": [
       "woman director          413.0\n",
       "independent film        396.0\n",
       "based on novel          278.0\n",
       "sex                     272.0\n",
       "sport                   216.0\n",
       "                        ...  \n",
       "immolation                1.0\n",
       "immigrant experience      1.0\n",
       "imaginary                 1.0\n",
       "illiteracy                1.0\n",
       "í•˜ìš¸ë§                  1.0\n",
       "Length: 7878, dtype: float64"
      ]
     },
     "execution_count": 38,
     "metadata": {},
     "output_type": "execute_result"
    }
   ],
   "source": [
    "count_words(df_keywords['keywords']).sort_values(ascending=False)"
   ]
  },
  {
   "cell_type": "markdown",
   "metadata": {},
   "source": [
    "> It looks like woman director, independent films, and based on novel are the most popular keywords."
   ]
  },
  {
   "cell_type": "markdown",
   "metadata": {},
   "source": [
    "### What are the most popular genres?"
   ]
  },
  {
   "cell_type": "code",
   "execution_count": 39,
   "metadata": {},
   "outputs": [
    {
     "data": {
      "text/plain": [
       "Drama              4760.0\n",
       "Comedy             3793.0\n",
       "Thriller           2907.0\n",
       "Action             2384.0\n",
       "Romance            1712.0\n",
       "Horror             1637.0\n",
       "Adventure          1471.0\n",
       "Crime              1354.0\n",
       "Family             1231.0\n",
       "Science Fiction    1229.0\n",
       "Fantasy             916.0\n",
       "Mystery             810.0\n",
       "Animation           699.0\n",
       "Documentary         520.0\n",
       "Music               408.0\n",
       "History             334.0\n",
       "War                 270.0\n",
       "Foreign             188.0\n",
       "TV Movie            167.0\n",
       "Western             165.0\n",
       "dtype: float64"
      ]
     },
     "execution_count": 39,
     "metadata": {},
     "output_type": "execute_result"
    }
   ],
   "source": [
    "count_words(df_genres['genres']).sort_values(ascending=False)"
   ]
  },
  {
   "cell_type": "markdown",
   "metadata": {},
   "source": [
    "> Regarding genres; drama, comedy, and thriller are the most popular genres."
   ]
  },
  {
   "cell_type": "markdown",
   "metadata": {},
   "source": [
    "<a id='conclusions'></a>\n",
    "## Conclusions\n",
    "\n",
    "> In our first section, we found that movies with long runtime have better ratings than those with short runtime excluding movies with runtime of 90 minuter or less. Then we discovered that the movie industry has developed a lot through time especially in the last ten years regarding the quality of movies. Lastly, we found out that the most popular keywords are woman director, independent films, and based on novel while the most popular genres are drama, comedy, and thriller.\n",
    "\n",
    "### Limitation:\n",
    "\n",
    "    1- Our analysis is limited to only about 11,000 movies over just the last 60 years\n",
    "    2- Dropping null values especially for the keywords column may have skewed our data\n",
    "    3- Removing movies with runtime of more than 4 hours may have affected our analysis for the correlation between vote_average and runtime"
   ]
  }
 ],
 "metadata": {
  "kernelspec": {
   "display_name": "Python 3",
   "language": "python",
   "name": "python3"
  },
  "language_info": {
   "codemirror_mode": {
    "name": "ipython",
    "version": 3
   },
   "file_extension": ".py",
   "mimetype": "text/x-python",
   "name": "python",
   "nbconvert_exporter": "python",
   "pygments_lexer": "ipython3",
   "version": "3.8.10"
  }
 },
 "nbformat": 4,
 "nbformat_minor": 2
}
